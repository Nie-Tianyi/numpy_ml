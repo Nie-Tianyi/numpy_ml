{
 "cells": [
  {
   "cell_type": "code",
   "id": "initial_id",
   "metadata": {
    "collapsed": true,
    "ExecuteTime": {
     "end_time": "2025-08-04T19:50:45.335292Z",
     "start_time": "2025-08-04T19:50:45.331230Z"
    }
   },
   "source": [
    "import sys\n",
    "import math\n",
    "\n",
    "print(sys.float_info.min)\n",
    "print(\"min:\", math.log(sys.float_info.min))\n",
    "print(sys.float_info.max)\n",
    "print(\"max:\", math.log(sys.float_info.max))"
   ],
   "outputs": [
    {
     "name": "stdout",
     "output_type": "stream",
     "text": [
      "2.2250738585072014e-308\n",
      "min: -708.3964185322641\n",
      "1.7976931348623157e+308\n",
      "max: 709.782712893384\n"
     ]
    }
   ],
   "execution_count": 8
  }
 ],
 "metadata": {
  "kernelspec": {
   "display_name": "Python 3",
   "language": "python",
   "name": "python3"
  },
  "language_info": {
   "codemirror_mode": {
    "name": "ipython",
    "version": 2
   },
   "file_extension": ".py",
   "mimetype": "text/x-python",
   "name": "python",
   "nbconvert_exporter": "python",
   "pygments_lexer": "ipython2",
   "version": "2.7.6"
  }
 },
 "nbformat": 4,
 "nbformat_minor": 5
}
