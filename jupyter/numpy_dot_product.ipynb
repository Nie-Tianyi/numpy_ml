{
 "cells": [
  {
   "metadata": {
    "ExecuteTime": {
     "end_time": "2025-06-26T05:59:58.846253Z",
     "start_time": "2025-06-26T05:59:58.814678Z"
    }
   },
   "cell_type": "code",
   "source": [
    "import numpy as np\n",
    "\n",
    "\n",
    "np.random.seed(0)\n",
    "x0 = np.random.rand(5)\n",
    "x1 = np.random.rand(5)\n",
    "\n",
    "y = np.random.rand(5)\n",
    "\n",
    "x0, x1, y"
   ],
   "id": "c1e4f7ff72385000",
   "outputs": [
    {
     "data": {
      "text/plain": [
       "(array([0.5488135 , 0.71518937, 0.60276338, 0.54488318, 0.4236548 ]),\n",
       " array([0.64589411, 0.43758721, 0.891773  , 0.96366276, 0.38344152]),\n",
       " array([0.79172504, 0.52889492, 0.56804456, 0.92559664, 0.07103606]))"
      ]
     },
     "execution_count": 24,
     "metadata": {},
     "output_type": "execute_result"
    }
   ],
   "execution_count": 24
  },
  {
   "metadata": {
    "ExecuteTime": {
     "end_time": "2025-06-26T06:10:52.747860Z",
     "start_time": "2025-06-26T06:10:52.726406Z"
    }
   },
   "cell_type": "code",
   "source": [
    "x = np.stack([x0, x1], axis=1)\n",
    "x"
   ],
   "id": "c0f5db1792564b21",
   "outputs": [
    {
     "data": {
      "text/plain": [
       "array([[0.5488135 , 0.64589411],\n",
       "       [0.71518937, 0.43758721],\n",
       "       [0.60276338, 0.891773  ],\n",
       "       [0.54488318, 0.96366276],\n",
       "       [0.4236548 , 0.38344152]])"
      ]
     },
     "execution_count": 42,
     "metadata": {},
     "output_type": "execute_result"
    }
   ],
   "execution_count": 42
  },
  {
   "metadata": {
    "ExecuteTime": {
     "end_time": "2025-06-26T06:13:55.150176Z",
     "start_time": "2025-06-26T06:13:55.134497Z"
    }
   },
   "cell_type": "code",
   "source": [
    "res = np.dot(x.T, y)\n",
    "\n",
    "# 手动计算验证\n",
    "manual_res = np.array([\n",
    "    np.sum(x0 * y),  # x0与y的点积\n",
    "    np.sum(x1 * y)   # x1与y的点积\n",
    "])\n",
    "\n",
    "print(\"x.T:\\n\", x.T)\n",
    "print(\"\\ny:\", y)\n",
    "print(\"\\nNumPy 计算结果:\", res)\n",
    "print(\"手动计算结果:\", manual_res)\n",
    "print(\"结果是否一致:\", np.allclose(res, manual_res))"
   ],
   "id": "ba6e280b896c493e",
   "outputs": [
    {
     "name": "stdout",
     "output_type": "stream",
     "text": [
      "x.T:\n",
      " [[0.5488135  0.71518937 0.60276338 0.54488318 0.4236548 ]\n",
      " [0.64589411 0.43758721 0.891773   0.96366276 0.38344152]]\n",
      "\n",
      "y: [0.79172504 0.52889492 0.56804456 0.92559664 0.07103606]\n",
      "\n",
      "NumPy 计算结果: [1.68960268 2.16857618]\n",
      "手动计算结果: [1.68960268 2.16857618]\n",
      "结果是否一致: True\n"
     ]
    }
   ],
   "execution_count": 44
  },
  {
   "metadata": {
    "ExecuteTime": {
     "end_time": "2025-06-26T05:54:57.122685Z",
     "start_time": "2025-06-26T05:54:57.112107Z"
    }
   },
   "cell_type": "code",
   "source": [
    "from test_data_set.test_data_gen import linear_data\n",
    "\n",
    "x, y = linear_data()\n",
    "\n",
    "x.shape"
   ],
   "id": "136c9752738837db",
   "outputs": [
    {
     "data": {
      "text/plain": [
       "(1000, 2)"
      ]
     },
     "execution_count": 8,
     "metadata": {},
     "output_type": "execute_result"
    }
   ],
   "execution_count": 8
  }
 ],
 "metadata": {
  "kernelspec": {
   "display_name": "Python 3",
   "language": "python",
   "name": "python3"
  },
  "language_info": {
   "codemirror_mode": {
    "name": "ipython",
    "version": 2
   },
   "file_extension": ".py",
   "mimetype": "text/x-python",
   "name": "python",
   "nbconvert_exporter": "python",
   "pygments_lexer": "ipython2",
   "version": "2.7.6"
  }
 },
 "nbformat": 4,
 "nbformat_minor": 5
}
