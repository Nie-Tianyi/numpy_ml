{
 "cells": [
  {
   "cell_type": "code",
   "execution_count": null,
   "id": "initial_id",
   "metadata": {
    "collapsed": true
   },
   "outputs": [],
   "source": [
    "# 将MNIST数据集分为6、2、2三个部分，用于训练、验证、和测试\n",
    "\n",
    "import numpy as np\n",
    "\n",
    "from test_data_set.mnist import mnist\n",
    "\n",
    "data = mnist(70000)\n",
    "np.random.seed(0)\n",
    "np.random.shuffle(data)  # 先打乱数据"
   ]
  }
 ],
 "metadata": {
  "kernelspec": {
   "display_name": "Python 3",
   "language": "python",
   "name": "python3"
  },
  "language_info": {
   "codemirror_mode": {
    "name": "ipython",
    "version": 2
   },
   "file_extension": ".py",
   "mimetype": "text/x-python",
   "name": "python",
   "nbconvert_exporter": "python",
   "pygments_lexer": "ipython2",
   "version": "2.7.6"
  }
 },
 "nbformat": 4,
 "nbformat_minor": 5
}
