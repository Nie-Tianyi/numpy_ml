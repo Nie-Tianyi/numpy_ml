{
 "cells": [
  {
   "cell_type": "code",
   "id": "initial_id",
   "metadata": {
    "collapsed": true,
    "ExecuteTime": {
     "end_time": "2025-06-25T06:16:57.716015Z",
     "start_time": "2025-06-25T06:16:57.699400Z"
    }
   },
   "source": [
    "import numpy as np\n",
    "\n",
    "a1 = np.random.rand(2,3)\n",
    "\n",
    "a1"
   ],
   "outputs": [
    {
     "data": {
      "text/plain": [
       "array([[0.99521613, 0.17643403, 0.73212798],\n",
       "       [0.64801818, 0.17859912, 0.04449632]])"
      ]
     },
     "execution_count": 4,
     "metadata": {},
     "output_type": "execute_result"
    }
   ],
   "execution_count": 4
  }
 ],
 "metadata": {
  "kernelspec": {
   "display_name": "Python 3",
   "language": "python",
   "name": "python3"
  },
  "language_info": {
   "codemirror_mode": {
    "name": "ipython",
    "version": 2
   },
   "file_extension": ".py",
   "mimetype": "text/x-python",
   "name": "python",
   "nbconvert_exporter": "python",
   "pygments_lexer": "ipython2",
   "version": "2.7.6"
  }
 },
 "nbformat": 4,
 "nbformat_minor": 5
}
